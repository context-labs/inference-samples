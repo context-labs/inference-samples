{
 "cells": [
  {
   "cell_type": "markdown",
   "metadata": {},
   "source": []
  },
  {
   "cell_type": "code",
   "execution_count": null,
   "metadata": {},
   "outputs": [],
   "source": [
    "!pip install yt-dlp opencv-python openai glob"
   ]
  },
  {
   "cell_type": "markdown",
   "metadata": {},
   "source": []
  },
  {
   "cell_type": "code",
   "execution_count": null,
   "metadata": {},
   "outputs": [],
   "source": [
    "%%bash\n",
    "mkdir -p keyframes\n",
    "yt-dlp -f bestvideo[ext=mp4] -o - \"https://www.youtube.com/watch?v=hTSaweR8qMI\" \\\n",
    "  | ffmpeg -i pipe: \\\n",
    "           -vf fps=.02 \\\n",
    "           -frames:v 5 \\\n",
    "           keyframes/keyframe_%02d.jpg"
   ]
  },
  {
   "cell_type": "markdown",
   "metadata": {},
   "source": []
  },
  {
   "cell_type": "code",
   "execution_count": null,
   "metadata": {},
   "outputs": [],
   "source": [
    "import os\n",
    "import json\n",
    "import base64\n",
    "from glob import glob           # <–– grabs the function glob()\n",
    "from openai import OpenAI"
   ]
  },
  {
   "cell_type": "markdown",
   "metadata": {},
   "source": []
  },
  {
   "cell_type": "code",
   "execution_count": null,
   "metadata": {},
   "outputs": [],
   "source": [
    "# — CONFIG —\n",
    "API_KEY = os.getenv(\"INFERENCE_API_KEY\")\n",
    "MODEL   = \"google/gemma-3-27b-instruct/bf-16\"\n",
    "SYSTEM_MSG = \"\"\"\n",
    "You are a JSON-only image analysis API specializing in YouTube keyframes.\n",
    "Generate one concise caption that describes what's happening across all these frames.\n",
    "Respond only with a JSON object:\n",
    "\n",
    "{\"caption\": \"…\"}\n",
    "\"\"\".strip()\n",
    "\n",
    "client = OpenAI(base_url=\"https://api.inference.net/v1\", api_key=API_KEY)"
   ]
  },
  {
   "cell_type": "markdown",
   "metadata": {},
   "source": []
  },
  {
   "cell_type": "code",
   "execution_count": null,
   "metadata": {},
   "outputs": [],
   "source": [
    "data_uris = []\n",
    "for filepath in sorted(glob(\"keyframes/*.jpg\")):   # now glob(...) works!\n",
    "    with open(filepath, \"rb\") as f:\n",
    "        b64 = base64.b64encode(f.read()).decode(\"utf-8\")\n",
    "    data_uris.append(f\"data:image/jpeg;base64,{b64}\")"
   ]
  },
  {
   "cell_type": "markdown",
   "metadata": {},
   "source": []
  },
  {
   "cell_type": "code",
   "execution_count": 47,
   "metadata": {},
   "outputs": [
    {
     "name": "stdout",
     "output_type": "stream",
     "text": [
      "\"{\\\"caption\\\": \\\"A man spends $10,000 on a date involving a fancy dinner, a limousine, jet skiing, and a singer.\\\"}\"\n"
     ]
    }
   ],
   "source": [
    "resp = client.chat.completions.create(\n",
    "    model=MODEL,\n",
    "    messages=[\n",
    "        {\"role\": \"system\", \"content\": SYSTEM_MSG},\n",
    "        {\n",
    "            \"role\": \"user\",\n",
    "            \"content\": [\n",
    "                {\"type\": \"text\", \"text\": \"Here are 5 keyframes from a YouTube video. Generate a single caption.\"},\n",
    "                *[\n",
    "                    {\"type\": \"image_url\", \"image_url\": {\"url\": uri}}\n",
    "                    for uri in data_uris\n",
    "                ]\n",
    "            ],\n",
    "        },\n",
    "    ],\n",
    "    response_format={\"type\": \"json_object\"},\n",
    ")\n",
    "\n",
    "# — OUTPUT RESULT —\n",
    "print(json.dumps(resp.choices[0].message.content, indent=2))"
   ]
  }
 ],
 "metadata": {
  "kernelspec": {
   "display_name": "venv",
   "language": "python",
   "name": "python3"
  },
  "language_info": {
   "codemirror_mode": {
    "name": "ipython",
    "version": 3
   },
   "file_extension": ".py",
   "mimetype": "text/x-python",
   "name": "python",
   "nbconvert_exporter": "python",
   "pygments_lexer": "ipython3",
   "version": "3.9.13"
  }
 },
 "nbformat": 4,
 "nbformat_minor": 2
}
