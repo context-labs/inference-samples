{
 "cells": [
  {
   "cell_type": "markdown",
   "metadata": {},
   "source": []
  },
  {
   "cell_type": "code",
   "execution_count": null,
   "metadata": {},
   "outputs": [],
   "source": [
    "!pip install openai"
   ]
  },
  {
   "cell_type": "markdown",
   "metadata": {},
   "source": []
  },
  {
   "cell_type": "code",
   "execution_count": 7,
   "metadata": {},
   "outputs": [],
   "source": [
    "import os, json\n",
    "from openai import OpenAI\n",
    "\n",
    "# — Configuration —\n",
    "client = OpenAI(\n",
    "    base_url=\"https://api.inference.net/v1\",\n",
    "    api_key=os.getenv(\"INFERENCE_API_KEY\"),\n",
    ")"
   ]
  },
  {
   "cell_type": "markdown",
   "metadata": {},
   "source": []
  },
  {
   "cell_type": "code",
   "execution_count": 8,
   "metadata": {},
   "outputs": [],
   "source": [
    "# Sentences taken from classic NER demos\n",
    "sentences = [\n",
    "    \"Apple is looking at buying U.K. startup for $1 billion.\",\n",
    "    \"Barack Obama was born in Hawaii.\",\n",
    "    \"San Francisco considers banning sidewalk delivery robots.\",\n",
    "    \"Amazon plans to open a new headquarters in Arlington by 2025.\",\n",
    "]\n",
    "\n",
    "# Strict JSON schema for entities\n",
    "entity_schema = {\n",
    "    \"name\": \"entity_extraction_result\",\n",
    "    \"strict\": True,\n",
    "    \"schema\": {\n",
    "        \"type\": \"object\",\n",
    "        \"properties\": {\n",
    "            \"text\":     {\"type\": \"string\"},\n",
    "            \"entities\": {\n",
    "                \"type\": \"array\",\n",
    "                \"items\": {\n",
    "                    \"type\": \"object\",\n",
    "                    \"properties\": {\n",
    "                        \"entity\": {\"type\": \"string\"},\n",
    "                        \"type\":   {\"type\": \"string\", \"enum\": [\n",
    "                            \"person\", \"organization\", \"location\", \"date\", \"money\", \"misc\"\n",
    "                        ]},\n",
    "                    },\n",
    "                    \"required\": [\"entity\", \"type\"],\n",
    "                    \"additionalProperties\": False,\n",
    "                },\n",
    "            },\n",
    "        },\n",
    "        \"required\": [\"text\", \"entities\"],\n",
    "        \"additionalProperties\": False,\n",
    "    },\n",
    "}"
   ]
  },
  {
   "cell_type": "markdown",
   "metadata": {},
   "source": []
  },
  {
   "cell_type": "code",
   "execution_count": 10,
   "metadata": {},
   "outputs": [],
   "source": [
    "def extract_entities(text: str):\n",
    "    messages = [\n",
    "        {\n",
    "            \"role\": \"system\",\n",
    "            \"content\": (\n",
    "                \"You are a named-entity recognition assistant. \"\n",
    "                \"Your task is to identify and extract named entities from the given text. \"\n",
    "                \"Extract entities of the following types:\\n\"\n",
    "                \"- PERSON: Names of people, including first names, last names, and full names\\n\"\n",
    "                \"- ORGANIZATION: Companies, institutions, agencies, government bodies, non-profits\\n\"\n",
    "                \"- LOCATION: Geographic locations including cities, countries, states, regions, landmarks\\n\"\n",
    "                \"- DATE: Dates, times, years, temporal expressions\\n\"\n",
    "                \"- MONEY: Monetary amounts, currencies, financial values\\n\"\n",
    "                \"- MISC: Other notable entities that don't fit the above categories but are significant\\n\\n\"\n",
    "                \"Instructions:\\n\"\n",
    "                \"1. Read the input text carefully\\n\"\n",
    "                \"2. Identify all entities that match the categories above\\n\"\n",
    "                \"3. For each entity, determine its exact text span and category\\n\"\n",
    "                \"4. Return the original text and all identified entities in the specified JSON format\\n\"\n",
    "                \"5. Be precise - only extract clear, unambiguous entities\\n\"\n",
    "                \"6. If no entities are found, return an empty entities array\\n\\n\"\n",
    "                \"Respond ONLY with valid JSON matching the given schema.\"\n",
    "            ),\n",
    "        },\n",
    "        {\"role\": \"user\", \"content\": text},\n",
    "    ]\n",
    "\n",
    "    resp = client.chat.completions.create(\n",
    "        model=\"meta-llama/llama-3.2-3b-instruct/fp-16\",\n",
    "        messages=messages,\n",
    "        response_format={\"type\": \"json_schema\", \"json_schema\": entity_schema},\n",
    "    )\n",
    "    return json.loads(resp.choices[0].message.content)"
   ]
  },
  {
   "cell_type": "markdown",
   "metadata": {},
   "source": []
  },
  {
   "cell_type": "code",
   "execution_count": 5,
   "metadata": {},
   "outputs": [
    {
     "name": "stdout",
     "output_type": "stream",
     "text": [
      "Text: Apple is looking at buying U.K. startup for $1 billion\n",
      "Entities: [('U.K.', 'location'), ('$1 billion', 'money')]\n",
      "------------------------------\n",
      "Text: Barack Obama was born in Hawaii.\n",
      "Entities: [('Barack Obama', 'person'), ('Hawaii', 'location')]\n",
      "------------------------------\n",
      "Text: San Francisco considers banning sidewalk delivery robots.\n",
      "Entities: [('San Francisco', 'location')]\n",
      "------------------------------\n",
      "Text: Amazon plans to open a new headquarters in Arlington by 2025.\n",
      "Entities: [('Arlington', 'location'), ('2025', 'date')]\n",
      "------------------------------\n"
     ]
    }
   ],
   "source": [
    "if __name__ == \"__main__\":\n",
    "    for s in sentences:\n",
    "        result = extract_entities(s)\n",
    "        print(f\"Text: {result['text']}\")\n",
    "        print(f\"Entities: {[(e['entity'], e['type']) for e in result['entities']]}\")\n",
    "        print(\"-\" * 30)\n",
    "        "
   ]
  },
  {
   "cell_type": "markdown",
   "metadata": {},
   "source": []
  }
 ],
 "metadata": {
  "kernelspec": {
   "display_name": "venv",
   "language": "python",
   "name": "python3"
  },
  "language_info": {
   "codemirror_mode": {
    "name": "ipython",
    "version": 3
   },
   "file_extension": ".py",
   "mimetype": "text/x-python",
   "name": "python",
   "nbconvert_exporter": "python",
   "pygments_lexer": "ipython3",
   "version": "3.9.13"
  }
 },
 "nbformat": 4,
 "nbformat_minor": 2
}
