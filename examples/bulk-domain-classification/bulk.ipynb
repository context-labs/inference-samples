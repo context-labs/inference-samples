{
 "cells": [
  {
   "cell_type": "code",
   "execution_count": 1,
   "id": "7e5942b3",
   "metadata": {},
   "outputs": [
    {
     "name": "stdout",
     "output_type": "stream",
     "text": [
      "\u001b[33mWARNING: You are using pip version 22.0.4; however, version 25.1.1 is available.\n",
      "You should consider upgrading via the '/Users/michaelryaboy/recent-projects/inference-webhook/venv/bin/python3 -m pip install --upgrade pip' command.\u001b[0m\u001b[33m\n",
      "\u001b[0m"
     ]
    }
   ],
   "source": [
    "!pip install -q openai wordfreq"
   ]
  },
  {
   "cell_type": "code",
   "execution_count": 58,
   "id": "fe373c68",
   "metadata": {},
   "outputs": [],
   "source": [
    "# 🟢 Cell 2 – imports & client\n",
    "import os, re, asyncio\n",
    "from typing import List, Literal\n",
    "from openai import OpenAI\n",
    "from pydantic import BaseModel, Field\n",
    "\n",
    "client = OpenAI(\n",
    "    base_url=\"https://api.inference.net/v1\",          # inference.net endpoint\n",
    "    api_key=os.getenv(\"INFERENCE_API_KEY\"),\n",
    ")\n",
    "MODEL = \"mistralai/mistral-nemo-12b-instruct/fp-8\""
   ]
  },
  {
   "cell_type": "code",
   "execution_count": 4,
   "id": "1790272a",
   "metadata": {},
   "outputs": [
    {
     "name": "stdout",
     "output_type": "stream",
     "text": [
      "Len Filtered list → 52002\n",
      "first 10 domains → ['ababanews.net', 'ababeelrealtors.com', 'abacombs.com', 'abacotoner.com', 'abadcult.org', 'abannebebek.com', 'abanoteolo.it', 'abarcart.com', 'abarrotesbombin.click', 'abaseballtime.com']\n"
     ]
    }
   ],
   "source": [
    "# fetch domains from https://gist.githubusercontent.com/mrmps/fbf29299d4b4401e6cfd659fd637fe41/raw/10920268c7a806778b954568f88a1734ea59ca8a/gistfile1.txt\n",
    "\n",
    "import requests\n",
    "\n",
    "response = requests.get(\"https://gist.githubusercontent.com/mrmps/fbf29299d4b4401e6cfd659fd637fe41/raw/10920268c7a806778b954568f88a1734ea59ca8a/gistfile1.txt\")\n",
    "\n",
    "raw_domains = response.text.split(\"\\n\")\n",
    "\n",
    "import re\n",
    "from wordfreq import zipf_frequency   # pip install wordfreq\n",
    "\n",
    "VOWELS = set(\"aeiou\")\n",
    "\n",
    "def looks_good(domain: str) -> bool:\n",
    "    \"\"\"\n",
    "    Heuristically decide whether `domain` is worth a closer look.\n",
    "\n",
    "    • Accepts **any** TLD (only rejects punycode or multi‑dot domains)\n",
    "    • ASCII letters only in the SLD  (no digits, hyphens, punycode)\n",
    "    • 4–16 chars, at least one vowel *and* one consonant\n",
    "    • Balanced vowel ratio: 0.2 – 0.8\n",
    "    • No 4‑char runs of vowels or consonants, no triple repeats,\n",
    "      no doubled first letter (“aafoo”), no placeholder words\n",
    "    • Must look *somewhat* like an English word (Zipf ≥ 1.2) **or**\n",
    "      contain an English sub‑chunk ≥ 4 letters with Zipf ≥ 3.0\n",
    "    \"\"\"\n",
    "\n",
    "    domain = domain.strip().lower()\n",
    "\n",
    "    # structural sanity -------------------------------------------------\n",
    "    if domain.startswith(\"xn--\") or domain.count(\".\") != 1:\n",
    "        return False\n",
    "\n",
    "    sld, _, tld = domain.partition(\".\")   # we accept every tld now\n",
    "    if not 4 <= len(sld) <= 16:\n",
    "        return False\n",
    "    if not re.fullmatch(r\"[a-z]+\", sld):\n",
    "        return False                        # digits / hyphens → out\n",
    "\n",
    "    # quick character‑pattern checks -----------------------------------\n",
    "    if sld[0] == sld[1]:                   # reject “aafoo”, “bbtech”\n",
    "        return False\n",
    "    if re.search(r\"(.)\\1\\1\", sld):         # any triple repeat\n",
    "        return False\n",
    "    if re.search(r\"[aeiou]{4,}\", sld) or re.search(r\"[bcdfghjklmnpqrstvwxyz]{4,}\", sld):\n",
    "        return False\n",
    "    if re.fullmatch(r\"(?:[bcdfghjklmnpqrstvwxyz][aeiou]){4,}\", sld):\n",
    "        return False                       # gubarecoti‑style generator junk\n",
    "\n",
    "    # vowel / consonant balance ----------------------------------------\n",
    "    v = sum(c in VOWELS for c in sld)\n",
    "    if v == 0 or v == len(sld):\n",
    "        return False\n",
    "    ratio = v / len(sld)\n",
    "    if not (0.20 <= ratio <= 0.80):\n",
    "        return False\n",
    "\n",
    "    # “looks like a word” signal ---------------------------------------\n",
    "    freq = zipf_frequency(sld, \"en\")\n",
    "    if freq >= 1.2:\n",
    "        return True                        # good enough\n",
    "\n",
    "    # fallback: does it *contain* a real 4‑letter chunk?\n",
    "    for i in range(len(sld) - 3):\n",
    "        chunk = sld[i:i+4]\n",
    "        if zipf_frequency(chunk, \"en\") >= 3.0:\n",
    "            return True\n",
    "\n",
    "    return False\n",
    "\n",
    "domains = [d for d in raw_domains if looks_good(d)]\n",
    "print(\"Len Filtered list →\", len(domains))\n",
    "print(\"first 10 domains →\", domains[:10])"
   ]
  },
  {
   "cell_type": "code",
   "execution_count": 55,
   "id": "4268a40a",
   "metadata": {},
   "outputs": [],
   "source": [
    "import json\n",
    "from pydantic import BaseModel, Field, ConfigDict\n",
    "\n",
    "\n",
    "# 🟢 Cell 3 – Pydantic schema (reasoning BEFORE score)\n",
    "class DomainValuation(BaseModel):\n",
    "    reasoning: str\n",
    "    score:  str\n",
    "\n",
    "    model_config = ConfigDict(extra='forbid')   \n",
    "\n",
    "\n",
    "SYSTEM_PROMPT = \"\"\"\n",
    "You are a senior domain‑name appraiser with 15 years of aftermarket sales data.\n",
    "First think through the valuation factors, then output JSON **in this exact order**:\n",
    "reasoning → score.  Follow the schema.\n",
    "\n",
    "Evaluation rubric (consider ALL factors – absence of any single factor prevents a perfect score):\n",
    "\n",
    "1 • Extension quality – .com > .net ≈ .org ≻ others  \n",
    "2 • Length – ideal ≤ 8 characters, shorter is better  \n",
    "3 • Word count – single meaningful word > two‑word phrase; no fragments  \n",
    "4 • Pronounceability – passes “radio test” (clear spelling upon hearing)  \n",
    "5 • Memorability & brandability – evokes imagery or category, no hyphens/numbers  \n",
    "6 • Search demand – high monthly exact‑match keyword volume is a plus  \n",
    "7 • Commercial intent – aligns with lucrative verticals (finance, AI, health, etc.)  \n",
    "8 • Trademarks – zero obvious TM conflicts; risky names are penalised  \n",
    "9 • Comparable sales – recent public comps of similar length/keywords/TLD  \n",
    "10 • Market trends – includes rising buzzwords or technologies without being ephemeral  \n",
    "\n",
    "Scoring guide:\n",
    "\n",
    "  90‑100  excellent – premium asset, likely ≥ $50 k  \n",
    "  70‑89   good – solid brand, low‑five‑figure potential  \n",
    "  40‑69   average – resale value a few hundred‑few thousand USD  \n",
    "   1‑39   poor – little intrinsic value  \n",
    "\n",
    "‘reasoning’ = concise bullets (≤ 15 words each) justifying the score (max 5).  \n",
    "If unsure, round the score DOWN.\n",
    "\"\"\".strip()"
   ]
  },
  {
   "cell_type": "code",
   "execution_count": 56,
   "id": "9435a1d3",
   "metadata": {},
   "outputs": [
    {
     "name": "stdout",
     "output_type": "stream",
     "text": [
      "{'name': 'domain_valuation', 'strict': True, 'schema': {'additionalProperties': False, 'properties': {'reasoning': {'title': 'Reasoning', 'type': 'string'}, 'score': {'title': 'Score', 'type': 'string'}}, 'required': ['reasoning', 'score'], 'title': 'DomainValuation', 'type': 'object'}}\n"
     ]
    }
   ],
   "source": [
    "DOMAIN_SCHEMA = {\n",
    "    \"name\":   \"domain_valuation\",\n",
    "    \"strict\": True,\n",
    "    \"schema\": DomainValuation.model_json_schema()      # auto‑generated 🎉\n",
    "}\n",
    "\n",
    "print(DOMAIN_SCHEMA)"
   ]
  },
  {
   "cell_type": "code",
   "execution_count": 53,
   "id": "42f94f26",
   "metadata": {},
   "outputs": [],
   "source": [
    "def make_line(domain: str, custom_id: str):\n",
    "    body = {\n",
    "        \"model\": MODEL,\n",
    "        \"messages\": [\n",
    "            {\"role\": \"system\", \"content\": SYSTEM_PROMPT},\n",
    "            {\"role\": \"user\",   \"content\": f\"Domain: {domain}\"}\n",
    "        ],\n",
    "        \"response_format\": {           # structured outputs!\n",
    "            \"type\": \"json_schema\",\n",
    "            \"json_schema\": DOMAIN_SCHEMA\n",
    "        },\n",
    "        \"temperature\": 0.3,\n",
    "        \"max_tokens\": 1200\n",
    "    }\n",
    "    return {\n",
    "        \"custom_id\": custom_id,\n",
    "        \"method\": \"POST\",\n",
    "        \"url\": \"/v1/chat/completions\",\n",
    "        \"body\": body\n",
    "    }"
   ]
  },
  {
   "cell_type": "code",
   "execution_count": 59,
   "id": "f15398a6",
   "metadata": {},
   "outputs": [
    {
     "name": "stdout",
     "output_type": "stream",
     "text": [
      "FileObject(id='oxygPm0EmUcA6ZrgMy0vd', bytes=None, created_at=1753835100345, filename=None, object=None, purpose=None, status=None, expires_at=None, status_details=None)\n"
     ]
    }
   ],
   "source": [
    "import json\n",
    "MAX_LINES = 1\n",
    "items = domains[:MAX_LINES]  # use your actual list variable\n",
    "\n",
    "# Write the file, one request per line using make_line\n",
    "with open(\"batchinput.jsonl\", \"w\", encoding=\"utf-8\") as f:\n",
    "    for i, dom in enumerate(items):\n",
    "        line = make_line(dom.strip(), custom_id=str(i))\n",
    "        f.write(f\"{json.dumps(line)}\\n\")\n",
    "\n",
    "# Upload the file using openai.files.create\n",
    "batch_input_file = client.files.create(\n",
    "    file=open(\"batchinput.jsonl\", \"rb\"),\n",
    "    purpose=\"batch\"\n",
    ")\n",
    "\n",
    "print(batch_input_file)"
   ]
  },
  {
   "cell_type": "code",
   "execution_count": null,
   "id": "f083a475",
   "metadata": {},
   "outputs": [],
   "source": []
  }
 ],
 "metadata": {
  "kernelspec": {
   "display_name": "venv",
   "language": "python",
   "name": "python3"
  },
  "language_info": {
   "codemirror_mode": {
    "name": "ipython",
    "version": 3
   },
   "file_extension": ".py",
   "mimetype": "text/x-python",
   "name": "python",
   "nbconvert_exporter": "python",
   "pygments_lexer": "ipython3",
   "version": "3.9.13"
  }
 },
 "nbformat": 4,
 "nbformat_minor": 5
}
