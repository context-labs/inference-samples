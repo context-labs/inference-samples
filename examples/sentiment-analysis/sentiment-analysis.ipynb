{
 "cells": [
  {
   "cell_type": "markdown",
   "metadata": {},
   "source": []
  },
  {
   "cell_type": "code",
   "execution_count": null,
   "metadata": {},
   "outputs": [],
   "source": [
    "!pip install openai"
   ]
  },
  {
   "cell_type": "markdown",
   "metadata": {},
   "source": []
  },
  {
   "cell_type": "code",
   "execution_count": 1,
   "metadata": {},
   "outputs": [],
   "source": [
    "import os\n",
    "import json\n",
    "from openai import OpenAI\n",
    "\n",
    "# —— Configuration ——\n",
    "INFERENCE_API_KEY = os.getenv(\"INFERENCE_API_KEY\")\n",
    "\n",
    "# Inference.net client\n",
    "openai = OpenAI(\n",
    "    base_url=\"https://api.inference.net/v1\",\n",
    "    api_key=INFERENCE_API_KEY,\n",
    ")"
   ]
  },
  {
   "cell_type": "markdown",
   "metadata": {},
   "source": []
  },
  {
   "cell_type": "code",
   "execution_count": 2,
   "metadata": {},
   "outputs": [],
   "source": [
    "tweets = [\n",
    "    # Ellen DeGeneres’s Oscar selfie (March 2, 2014)\n",
    "    \"If only Bradley's arm was longer. Best photo ever. #oscars\",\n",
    "    # Barack Obama’s re‑election celebration (Nov 6, 2012)\n",
    "    \"Four more years. #Obama2012\",\n",
    "    # Donald Trump’s infamous typo (May 31, 2017)\n",
    "    \"Despite the constant negative press covfefe\",\n",
    "    # Elon Musk on taking Tesla private (Aug 7, 2018)\n",
    "    \"Am considering taking Tesla private at $420. Funding secured.\",\n",
    "    # Barack Obama on the Orlando tragedy (June 12, 2016)\n",
    "    \"Shocked and saddened by the news from Orlando. Our hearts go out to all those impacted and we’ll be there to help.\",\n",
    "    # Ariana Grande after Manchester (May 22, 2017)\n",
    "    \"My heart is broken. From the bottom of my heart, I am so sorry. I don’t have the words.\",\n",
    "    # NASA on Curiosity landing (Aug 5, 2012)\n",
    "    \"Curiosity has landed on Mars! 🎉🔴 #MSL\"\n",
    "] "
   ]
  },
  {
   "cell_type": "markdown",
   "metadata": {},
   "source": []
  },
  {
   "cell_type": "code",
   "execution_count": 14,
   "metadata": {},
   "outputs": [],
   "source": [
    "sentiment_schema = {\n",
    "    \"name\": \"tweet_sentiment\",\n",
    "    \"strict\": True,\n",
    "    \"schema\": {\n",
    "        \"type\": \"object\",\n",
    "        \"properties\": {\n",
    "            \"text\":      {\"type\": \"string\"},\n",
    "            \"sentiment\": {\"type\": \"string\", \"enum\": [\"positive\", \"neutral\", \"negative\"]},\n",
    "        },\n",
    "        \"required\": [\"text\", \"sentiment\"],\n",
    "        \"additionalProperties\": False\n",
    "    }\n",
    "}"
   ]
  },
  {
   "cell_type": "markdown",
   "metadata": {},
   "source": []
  },
  {
   "cell_type": "code",
   "execution_count": 15,
   "metadata": {},
   "outputs": [],
   "source": [
    "def analyze_sentiment(tweet):\n",
    "    messages = [\n",
    "        {\"role\": \"system\", \"content\": \"You are a sentiment analysis assistant. Respond in JSON format adhering to the given schema.\"},\n",
    "        {\"role\": \"user\", \"content\": tweet}\n",
    "    ]\n",
    "\n",
    "    resp = openai.chat.completions.create(\n",
    "        model=\"meta-llama/llama-3.2-3b-instruct/fp-16\",\n",
    "        messages=messages,\n",
    "        response_format={\n",
    "            \"type\": \"json_schema\",\n",
    "            \"json_schema\": sentiment_schema\n",
    "        }\n",
    "    )\n",
    "    return json.loads(resp.choices[0].message.content)"
   ]
  },
  {
   "cell_type": "markdown",
   "metadata": {},
   "source": []
  },
  {
   "cell_type": "code",
   "execution_count": 16,
   "metadata": {},
   "outputs": [
    {
     "name": "stdout",
     "output_type": "stream",
     "text": [
      "{'text': 'Just spilled coffee on my laptop right before a big meeting. Mondays, am I right? 😩☕️💻', 'sentiment': 'negative'}\n",
      "{'text': \"Can't believe @Raptors pulled off that comeback in OT! What a game 🔥🏀 #WeTheNorth\", 'sentiment': 'positive'}\n",
      "{'text': 'Is it just me, or does no one understand the importance of personal space on the subway?', 'sentiment': 'negative'}\n",
      "{'text': 'Your kitten is using the litter box consistently, which is a significant accomplishment.', 'sentiment': 'positive'}\n",
      "{'text': 'Listening to @BillieEilish’s latest album on repeat. Absolute masterpiece. ', 'sentiment': 'positive'}\n",
      "{'text': 'Waiting 2 hours for my food delivery and they forgot the fries. Literally starving over here. ', 'sentiment': 'negative'}\n",
      "{'text': 'feeling anxious but motivated to do my part', 'sentiment': 'positive'}\n"
     ]
    }
   ],
   "source": [
    "for tweet in tweets:\n",
    "    print(analyze_sentiment(tweet))"
   ]
  },
  {
   "cell_type": "markdown",
   "metadata": {},
   "source": []
  }
 ],
 "metadata": {
  "kernelspec": {
   "display_name": "venv",
   "language": "python",
   "name": "python3"
  },
  "language_info": {
   "codemirror_mode": {
    "name": "ipython",
    "version": 3
   },
   "file_extension": ".py",
   "mimetype": "text/x-python",
   "name": "python",
   "nbconvert_exporter": "python",
   "pygments_lexer": "ipython3",
   "version": "3.9.13"
  }
 },
 "nbformat": 4,
 "nbformat_minor": 2
}
